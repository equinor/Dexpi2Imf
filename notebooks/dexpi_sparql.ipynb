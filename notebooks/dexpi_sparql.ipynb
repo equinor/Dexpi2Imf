{
 "cells": [
  {
   "cell_type": "markdown",
   "metadata": {},
   "source": [
    "# DEXPI SPARQL\nA simple setup for running SPARQL queries against dexpi.org's endpoints."
   ]
  },
  {
   "cell_type": "code",
   "execution_count": null,
   "metadata": {},
   "outputs": [],
   "source": [
    "rdl_endpoint = \"http://endpoint.dexpi.org/rdl/query\"\n",
    "im_endpoint = \"http://endpoint.dexpi.org/information_model/query\"\n",
    "\n",
    "endpoint = rdl_endpoint\n"
   ]
  },
  {
   "cell_type": "code",
   "execution_count": null,
   "metadata": {},
   "outputs": [],
   "source": [
    "query = \"\"\"\n",
    "    CONSTRUCT { ?s ?p ?o } WHERE { ?s ?p ?o }\n",
    "\"\"\"\n"
   ]
  },
  {
   "cell_type": "code",
   "execution_count": null,
   "metadata": {},
   "outputs": [],
   "source": [
    "from SPARQLWrapper import SPARQLWrapper, JSON\n",
    "import json\n",
    "\n",
    "sparql = SPARQLWrapper(endpoint)\n",
    "sparql.setQuery(query)\n",
    "\n",
    "command = query.strip().split()[0].upper()\n",
    "\n",
    "if command in [\"CONSTRUCT\", \"DESCRIBE\"]:\n",
    "    sparql.setReturnFormat(\"turtle\")\n",
    "    results = sparql.query().convert()\n",
    "    results = results.decode()\n",
    "elif command in [\"SELECT\"]:\n",
    "    sparql.setReturnFormat(JSON)\n",
    "    results = json.dumps(sparql.query().convert(), indent=4)\n",
    "else:\n",
    "    print(\"Unsupported SPARQL command, please rewrite code.\")"
   ]
  },
  {
   "cell_type": "code",
   "execution_count": null,
   "metadata": {},
   "outputs": [],
   "source": [
    "print(results)"
   ]
  }
 ],
 "metadata": {
  "kernelspec": {
   "display_name": "Python 3",
   "language": "python",
   "name": "python3"
  },
  "language_info": {
   "codemirror_mode": {
    "name": "ipython",
    "version": 3
   },
   "file_extension": ".py",
   "mimetype": "text/x-python",
   "name": "python",
   "nbconvert_exporter": "python",
   "pygments_lexer": "ipython3",
   "version": "3.12.4"
  }
 },
 "nbformat": 4,
 "nbformat_minor": 2
}
